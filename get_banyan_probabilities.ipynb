{
 "cells": [
  {
   "cell_type": "markdown",
   "id": "c23c2562",
   "metadata": {},
   "source": [
    "# BANYAN probabilities for the MG candidates.\n",
    "#### This program returns the probability of membership to the TW Hya moving group for a list of candidate members pre-selected from a large search of literature sources.\n",
    "The input data is a table of positions, proper motions, parallaxes and radial velocities, where the first 3 are exclusively from Gaia DR3.\n",
    "\n",
    "The radial velocities are from a Vizier catalogue search made using the Find_Vizier_RVs.ipynb and MultipleRVs.ipynb notebooks."
   ]
  },
  {
   "cell_type": "markdown",
   "id": "8698ffc5",
   "metadata": {},
   "source": [
    "## IMPORTANT\n",
    "To run the script, we need to follow the instruction's on Jonathan Gagne's github page.\n",
    "https://github.com/jgagneastro/banyan_sigma\n",
    "\n",
    "It is recommended to work in the virtual environment space, to ensure that all the requirements for the python modules are matched (see ./banyan_sigma/requirements.txt)."
   ]
  },
  {
   "cell_type": "code",
   "execution_count": 137,
   "id": "d1c5dfd9",
   "metadata": {},
   "outputs": [],
   "source": [
    "# import the modules\n",
    "from banyan_sigma.core import *\n",
    "import numpy as np\n",
    "from astropy.io import ascii\n",
    "import matplotlib.pyplot as plt"
   ]
  },
  {
   "cell_type": "code",
   "execution_count": 138,
   "id": "f00debdc",
   "metadata": {},
   "outputs": [],
   "source": [
    "MG_test = 'TWA'\n",
    "Table_Kin = ascii.read(\"../AO23/Volans/other_mgs/BANYAN_Input.csv\")\n",
    "Table_Kin = Table_Kin[Table_Kin[\"MG\"] == MG_test]"
   ]
  },
  {
   "cell_type": "code",
   "execution_count": 139,
   "id": "4a638562",
   "metadata": {
    "scrolled": true
   },
   "outputs": [
    {
     "data": {
      "text/html": [
       "<div><i>Table length=146</i>\n",
       "<table id=\"table140088252415040\" class=\"table-striped table-bordered table-condensed\">\n",
       "<thead><tr><th>target_ID</th><th>ra</th><th>dec</th><th>pmra</th><th>epmra</th><th>pmdec</th><th>epmdec</th><th>plx</th><th>eplx</th><th>rv</th><th>erv</th></tr></thead>\n",
       "<thead><tr><th>str28</th><th>float64</th><th>float64</th><th>float64</th><th>float64</th><th>float64</th><th>float64</th><th>float64</th><th>float64</th><th>float64</th><th>float64</th></tr></thead>\n",
       "<tr><td>Gaia DR3 5460240959050125568</td><td>153.0376440933743</td><td>-31.412609516028827</td><td>-78.51263350593804</td><td>0.0412492</td><td>-11.585749145235889</td><td>0.0580075</td><td>18.787173693776438</td><td>0.0637934</td><td>14.51</td><td>0.44</td></tr>\n",
       "<tr><td>...</td><td>...</td><td>...</td><td>...</td><td>...</td><td>...</td><td>...</td><td>...</td><td>...</td><td>...</td><td>...</td></tr>\n",
       "<tr><td>Gaia DR3 3560046856343264000</td><td>168.29269873424735</td><td>-15.066936042210095</td><td>--</td><td>--</td><td>--</td><td>--</td><td>--</td><td>--</td><td>--</td><td>--</td></tr>\n",
       "<tr><td>Gaia DR3 5376866126187641216</td><td>169.80405076384864</td><td>-43.71108201714018</td><td>-49.77749056746427</td><td>0.436218</td><td>6.454884172518398</td><td>0.379242</td><td>6.362996912063791</td><td>0.441784</td><td>--</td><td>--</td></tr>\n",
       "</table></div>"
      ],
      "text/plain": [
       "<Table length=146>\n",
       "         target_ID                   ra                 dec         ...    rv     erv  \n",
       "           str28                  float64             float64       ... float64 float64\n",
       "---------------------------- ------------------ ------------------- ... ------- -------\n",
       "Gaia DR3 5460240959050125568  153.0376440933743 -31.412609516028827 ...   14.51    0.44\n",
       "                         ...                ...                 ... ...     ...     ...\n",
       "Gaia DR3 3560046856343264000 168.29269873424735 -15.066936042210095 ...      --      --\n",
       "Gaia DR3 5376866126187641216 169.80405076384864  -43.71108201714018 ...      --      --"
      ]
     },
     "execution_count": 139,
     "metadata": {},
     "output_type": "execute_result"
    }
   ],
   "source": [
    "Table_Kin = Table_Kin[Table_Kin.colnames[:-1]]\n",
    "Table_Kin"
   ]
  },
  {
   "cell_type": "code",
   "execution_count": 140,
   "id": "eb7e8512",
   "metadata": {},
   "outputs": [
    {
     "name": "stdout",
     "output_type": "stream",
     "text": [
      "Gaia DR3 5460240959050125568 0.9542829300821045\n",
      "Gaia DR3 5396978667757576064 0.11288275753882973\n",
      "nope\n",
      "Gaia DR3 6153319453646631040 2.899044594201269e-32\n",
      "Gaia DR3 6159597046565457280 1.823754441863763e-109\n",
      "Gaia DR3 2997233585961825280 5.038780000150455e-62\n",
      "Gaia DR3 654704237414120192 7.217228806363464e-07\n",
      "Gaia DR3 654704237415844736 0.00029698185312149406\n",
      "Gaia DR3 5734132118729087488 9.322803754075309e-25\n",
      "Gaia DR3 5632746396349003136 8.44586535532961e-13\n",
      "Gaia DR3 3769934860057100672 0.00026782784269418315\n",
      "Gaia DR3 5460240959047928832 0.9913947738004926\n",
      "Gaia DR3 5356713413789909632 4.2451415474771e-12\n",
      "Gaia DR3 5355751581627180288 2.8426261293206347e-12\n",
      "Gaia DR3 5460728077057780864 4.752051551541417e-09\n",
      "Gaia DR3 5416221633076680320 1.134702552641284e-09\n",
      "Gaia DR3 5416606290347735040 1.1220156943785936e-06\n",
      "Gaia DR3 5467714064704570112 0.9595920636701768\n",
      "Gaia DR3 5442055758282776832 1.4273324357079762e-49\n",
      "Gaia DR3 5444361399801533312 1.617697109958296e-07\n",
      "Gaia DR3 5444751795151480320 0.9771657017097067\n",
      "Gaia DR3 5442755872310077184 4.932391304638052e-58\n",
      "Gaia DR3 5457259083514583552 3.855409981138467e-05\n",
      "Gaia DR3 5470406901823698688 5.656047027228926e-16\n",
      "Gaia DR3 3554109356113310464 0.8035734000654001\n",
      "Gaia DR3 5453038844352145536 0.9894159040806587\n",
      "Gaia DR3 5452836229271861248 3.5250680842475905e-17\n",
      "Gaia DR3 5401389770971149568 3.161294500642638e-10\n",
      "Gaia DR3 3536988276442796800 0.9451807638971461\n",
      "Gaia DR3 5401795662560500352 0.9989395714490612\n",
      "Gaia DR3 5401822669314874240 0.9979860586156903\n",
      "Gaia DR3 5401927462221005824 3.0316432268887864e-13\n",
      "Gaia DR3 5400050222210919680 2.4419174693554082e-33\n",
      "Gaia DR3 5389118083036923904 8.031163318178755e-16\n",
      "Gaia DR3 5390420836814434560 2.327982004921335e-47\n",
      "Gaia DR3 5389433372291238016 2.3859808011280882e-29\n",
      "Gaia DR3 5399990638128330752 1.5703321542905357e-11\n",
      "Gaia DR3 3532027383058513664 0.9950986445570824\n",
      "Gaia DR3 5452498541764280832 0.9957118358993328\n",
      "Gaia DR3 5396978667759696000 0.6930647337176804\n",
      "Gaia DR3 3532218595001808768 0.9935770309620156\n",
      "Gaia DR3 3560046852047030144 3.773411144786135e-06\n",
      "Gaia DR3 5375025440645600000 0.004526010939465867\n",
      "Gaia DR3 5397035876723858176 0.05719071393720381\n",
      "nope\n",
      "Gaia DR3 5397541755152021760 1.6464413542080087e-05\n",
      "Gaia DR3 5376866126183688320 3.0465076970794393e-26\n",
      "Gaia DR3 3531504977596180224 2.8286232081230727e-13\n",
      "Gaia DR3 5399220743767211776 0.9994345505731056\n",
      "Gaia DR3 5399220743767211264 0.9994830979418377\n",
      "Gaia DR3 5397574190745629312 0.9944129481102902\n",
      "Gaia DR3 5398663566249861120 0.9994550899939836\n",
      "Gaia DR3 3481965995873045888 0.9964494845360187\n",
      "Gaia DR3 3481965141177021568 0.9976880167128792\n",
      "Gaia DR3 3485098646237003136 0.9503684452535812\n",
      "Gaia DR3 3485098646237003392 0.9946851339477744\n",
      "Gaia DR3 5384988321657523328 1.5798399988614504e-14\n",
      "Gaia DR3 5384999626011187968 4.813723672144824e-46\n",
      "Gaia DR3 3478940625208241920 0.9936454317275072\n",
      "Gaia DR3 5385907685180135040 1.1265270496391e-07\n",
      "Gaia DR3 3478519134297202560 0.9981078556735408\n",
      "Gaia DR3 5384698428547238144 1.7819780031183172e-14\n",
      "Gaia DR3 5384862358857994752 5.109962021637106e-37\n",
      "nope\n",
      "Gaia DR3 3463395519358168064 0.9782790772816284\n",
      "Gaia DR3 3463395523652894336 0.9755376422807015\n",
      "Gaia DR3 5380506265588826880 4.404015075233374e-126\n",
      "Gaia DR3 5379804708450549632 9.712222313015347e-31\n",
      "Gaia DR3 3459954430215702272 2.0650025786239713e-07\n",
      "Gaia DR3 3459079184601811072 1.253620397605015e-33\n",
      "Gaia DR3 5378040370245563008 0.9769253401462757\n",
      "Gaia DR3 5335220267909593216 1.568923857800656e-28\n",
      "Gaia DR3 3567379121431731328 0.00015243203762607113\n",
      "Gaia DR3 3465944500845668224 0.9548314358824957\n",
      "Gaia DR3 6054321385237966336 1.7628850662709387e-26\n",
      "Gaia DR3 3460673098504625024 4.3740500354372726e-13\n",
      "Gaia DR3 3467461070975814016 3.620322940781053e-80\n",
      "Gaia DR3 3465989374664029184 0.9956026770630739\n",
      "Gaia DR3 3459725624422311424 0.9503216260023059\n",
      "Gaia DR3 3466327989885650176 0.3314122603290523\n",
      "Gaia DR3 3466308095597260032 0.9958118438800774\n",
      "Gaia DR3 3459372646830687104 0.9992150356644407\n",
      "Gaia DR3 3459492631038236416 0.9982214350963302\n",
      "Gaia DR3 3461345754806282112 5.099423154817045e-12\n",
      "Gaia DR3 3462717606017381120 3.643523029616814e-14\n",
      "nope\n",
      "Gaia DR3 3461188146687604736 2.0480585522650033e-39\n",
      "Gaia DR3 6150861598484393856 0.9989075949153703\n",
      "Gaia DR3 3475776917934840576 3.358832396211363e-45\n",
      "Gaia DR3 3474896651502676096 8.630635239573166e-56\n",
      "Gaia DR3 6151254605170043392 2.1895915756728506e-24\n",
      "Gaia DR3 6151330196594603648 0.9841178023338478\n",
      "Gaia DR3 6143632653128880896 0.9805539636955674\n",
      "Gaia DR3 3469151359651640704 2.5254352846428533e-40\n",
      "Gaia DR3 6151049133934677248 6.107276684622324e-28\n",
      "nope\n",
      "Gaia DR3 6145156610606342784 7.835330893618128e-58\n",
      "Gaia DR3 3468438639892079360 0.9799210063174459\n",
      "Gaia DR3 3583682782927372160 3.0077286655378048e-09\n",
      "Gaia DR3 6145304323118631680 0.99448206266111\n",
      "Gaia DR3 6145303429765430784 0.9946921466209184\n",
      "Gaia DR3 6150508376076490624 5.942565606201356e-50\n",
      "Gaia DR3 6132146982868270976 0.984852331549393\n",
      "Gaia DR3 3470528089942211456 2.92543335391726e-66\n",
      "Gaia DR3 6128493718050020096 2.982764865958096e-05\n",
      "Gaia DR3 6128493752409759744 5.315327781225961e-05\n",
      "Gaia DR3 6132134299824086144 0.9456509432974135\n",
      "Gaia DR3 6146107993101452160 0.998186319614405\n",
      "Gaia DR3 6146137782994601984 0.4942214137372997\n",
      "Gaia DR3 6147119548096085376 0.9978423969719589\n",
      "Gaia DR3 6147117722735170176 0.9773925917826797\n",
      "Gaia DR3 6147117727029871360 0.9985506134389396\n",
      "Gaia DR3 6133420114251217664 0.9697660564390657\n",
      "Gaia DR3 6147044433411060224 0.9964422865785441\n",
      "Gaia DR3 6129199845030851840 0.9800138061691829\n",
      "Gaia DR3 6153319453645095936 5.589013049020888e-38\n",
      "Gaia DR3 6079609843386980224 0.3058621349162968\n",
      "Gaia DR3 6132672029732817024 0.9916136757993108\n",
      "Gaia DR3 6152460249733810688 1.1084154117469003e-06\n",
      "Gaia DR3 6159597046564220160 7.647841405229528e-151\n",
      "Gaia DR3 6152893526035165312 0.862281390638543\n",
      "Gaia DR3 3503443271894443904 0.00014711948265323799\n",
      "Gaia DR3 6139583907716775936 0.6697058217043375\n",
      "Gaia DR3 6139584010795996160 0.6978296086549292\n",
      "Gaia DR3 6135159885248118400 1.4786455484835212e-17\n",
      "Gaia DR3 6155574513340367616 0.2901386458062686\n",
      "nope\n",
      "Gaia DR3 6154629964132559104 4.412499258739211e-25\n",
      "Gaia DR3 6140134041487677312 2.831574469052179e-06\n",
      "Gaia DR3 6142504107520247680 5.019113087342451e-06\n",
      "Gaia DR3 6136589834475210752 0.5927390310276891\n",
      "Gaia DR3 6111552614685208064 1.9861461904286093e-22\n",
      "Gaia DR3 2265590167695522432 4.331357507759491e-24\n",
      "Gaia DR3 2265589961537092480 8.903652768984377e-27\n",
      "Gaia DR3 654704237415845504 4.214464885690176e-05\n",
      "Gaia DR3 3459954430217101184 1.2628415640808092e-09\n",
      "Gaia DR3 3461188150984598784 1.3516995960253745e-49\n",
      "nope\n",
      "Gaia DR3 3474896655798472192 3.6049961047250596e-68\n",
      "Gaia DR3 5384698428545116800 1.0053477230022138e-13\n",
      "nope\n",
      "Gaia DR3 5384999626014999680 5.51787343278944e-51\n",
      "Gaia DR3 5442755872307869568 2.1444410187962437e-58\n",
      "Gaia DR3 5452836229269807872 2.9812720432782283e-112\n",
      "nope\n",
      "Gaia DR3 5376866126187641216 5.1402041190010243e-23\n"
     ]
    }
   ],
   "source": [
    "BANYAN_Probs = []\n",
    "for t in Table_Kin:\n",
    "    if isinstance(t[\"pmra\"], np.ma.core.MaskedConstant):\n",
    "        print('nope')\n",
    "        BANYAN_Probs.append(0.0)\n",
    "    else:\n",
    "        str_comm=''\n",
    "        for c in t.colnames[1:]:\n",
    "            if not isinstance(t[c], np.ma.core.MaskedConstant):\n",
    "                str_comm += f'{c}=t[\"{c}\"],'\n",
    "        if not isinstance(t['plx'], np.ma.core.MaskedConstant):\n",
    "            str_comm += 'use_plx=True,'\n",
    "        else:\n",
    "            str_comm += 'use_plx=False,'\n",
    "        if not isinstance(t['rv'], np.ma.core.MaskedConstant):\n",
    "            str_comm += 'use_rv=True,'\n",
    "        else:\n",
    "            str_comm += 'use_rv=False,'\n",
    "        str_comm = str_comm[0:-1]\n",
    "        output = eval('membership_probability(' + str_comm +')')\n",
    "        print(t[\"target_ID\"], output['ALL'].iloc[0][f'{MG_test}'])\n",
    "        BANYAN_Probs.append(output['ALL'].iloc[0][f'{MG_test}'])"
   ]
  },
  {
   "cell_type": "code",
   "execution_count": 141,
   "id": "4dce8861",
   "metadata": {},
   "outputs": [
    {
     "name": "stdout",
     "output_type": "stream",
     "text": [
      "48\n"
     ]
    },
    {
     "data": {
      "image/png": "[encoded data removed]",
      "text/plain": [
       "<Figure size 640x480 with 1 Axes>"
      ]
     },
     "metadata": {},
     "output_type": "display_data"
    }
   ],
   "source": [
    "Table_Kin[\"BANYAN\"] = BANYAN_Probs\n",
    "plt.hist(Table_Kin[\"BANYAN\"],bins=20)\n",
    "print(np.sum(Table_Kin[\"BANYAN\"] >= 0.8))"
   ]
  },
  {
   "cell_type": "code",
   "execution_count": 142,
   "id": "c1280c02",
   "metadata": {},
   "outputs": [],
   "source": [
    "Table_Kin.write(f\"BANYAN_Probs_{MG_test}.csv\", overwrite=True)"
   ]
  }
 ],
 "metadata": {
  "kernelspec": {
   "display_name": "Python 3 (ipykernel)",
   "language": "python",
   "name": "python3"
  },
  "language_info": {
   "codemirror_mode": {
    "name": "ipython",
    "version": 3
   },
   "file_extension": ".py",
   "mimetype": "text/x-python",
   "name": "python",
   "nbconvert_exporter": "python",
   "pygments_lexer": "ipython3",
   "version": "3.10.9"
  }
 },
 "nbformat": 4,
 "nbformat_minor": 5
}
